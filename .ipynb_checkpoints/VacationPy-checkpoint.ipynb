{
 "cells": [
  {
   "cell_type": "markdown",
   "metadata": {},
   "source": [
    "# VacationPy\n",
    "----\n",
    "\n",
    "#### Note\n",
    "* Instructions have been included for each segment. You do not have to follow them exactly, but they are included to help you think through the steps."
   ]
  },
  {
   "cell_type": "code",
   "execution_count": 27,
   "metadata": {},
   "outputs": [],
   "source": [
    "# Dependencies and Setup\n",
    "import matplotlib.pyplot as plt\n",
    "import pandas as pd\n",
    "import numpy as np\n",
    "import requests\n",
    "import gmaps\n",
    "import gmaps.datasets\n",
    "import os\n",
    "\n",
    "# Import API key\n",
    "from api_keys import g_key\n",
    "\n",
    "# Configure gmaps\n",
    "gmaps.configure(api_key=g_key)"
   ]
  },
  {
   "cell_type": "markdown",
   "metadata": {},
   "source": [
    "### Store Part I results into DataFrame\n",
    "* Load the csv exported in Part I to a DataFrame"
   ]
  },
  {
   "cell_type": "code",
   "execution_count": 28,
   "metadata": {},
   "outputs": [
    {
     "data": {
      "text/html": [
       "<div>\n",
       "<style scoped>\n",
       "    .dataframe tbody tr th:only-of-type {\n",
       "        vertical-align: middle;\n",
       "    }\n",
       "\n",
       "    .dataframe tbody tr th {\n",
       "        vertical-align: top;\n",
       "    }\n",
       "\n",
       "    .dataframe thead th {\n",
       "        text-align: right;\n",
       "    }\n",
       "</style>\n",
       "<table border=\"1\" class=\"dataframe\">\n",
       "  <thead>\n",
       "    <tr style=\"text-align: right;\">\n",
       "      <th></th>\n",
       "      <th>city</th>\n",
       "      <th>latitude</th>\n",
       "      <th>longitude</th>\n",
       "      <th>max_temperature</th>\n",
       "      <th>humidity</th>\n",
       "      <th>cloudiness</th>\n",
       "      <th>wind_speed</th>\n",
       "    </tr>\n",
       "  </thead>\n",
       "  <tbody>\n",
       "    <tr>\n",
       "      <th>0</th>\n",
       "      <td>Kapaa</td>\n",
       "      <td>22.08</td>\n",
       "      <td>-159.32</td>\n",
       "      <td>23.00</td>\n",
       "      <td>78</td>\n",
       "      <td>75</td>\n",
       "      <td>2.60</td>\n",
       "    </tr>\n",
       "    <tr>\n",
       "      <th>1</th>\n",
       "      <td>Osypenko</td>\n",
       "      <td>46.91</td>\n",
       "      <td>36.83</td>\n",
       "      <td>7.78</td>\n",
       "      <td>100</td>\n",
       "      <td>0</td>\n",
       "      <td>3.13</td>\n",
       "    </tr>\n",
       "    <tr>\n",
       "      <th>2</th>\n",
       "      <td>Imbituba</td>\n",
       "      <td>-28.24</td>\n",
       "      <td>-48.67</td>\n",
       "      <td>17.00</td>\n",
       "      <td>63</td>\n",
       "      <td>1</td>\n",
       "      <td>1.00</td>\n",
       "    </tr>\n",
       "    <tr>\n",
       "      <th>3</th>\n",
       "      <td>Busselton</td>\n",
       "      <td>-33.65</td>\n",
       "      <td>115.33</td>\n",
       "      <td>25.56</td>\n",
       "      <td>36</td>\n",
       "      <td>39</td>\n",
       "      <td>5.58</td>\n",
       "    </tr>\n",
       "    <tr>\n",
       "      <th>4</th>\n",
       "      <td>Bac Lieu</td>\n",
       "      <td>9.29</td>\n",
       "      <td>105.72</td>\n",
       "      <td>31.12</td>\n",
       "      <td>58</td>\n",
       "      <td>37</td>\n",
       "      <td>5.48</td>\n",
       "    </tr>\n",
       "    <tr>\n",
       "      <th>...</th>\n",
       "      <td>...</td>\n",
       "      <td>...</td>\n",
       "      <td>...</td>\n",
       "      <td>...</td>\n",
       "      <td>...</td>\n",
       "      <td>...</td>\n",
       "      <td>...</td>\n",
       "    </tr>\n",
       "    <tr>\n",
       "      <th>579</th>\n",
       "      <td>Ofakim</td>\n",
       "      <td>31.31</td>\n",
       "      <td>34.62</td>\n",
       "      <td>19.44</td>\n",
       "      <td>68</td>\n",
       "      <td>0</td>\n",
       "      <td>0.45</td>\n",
       "    </tr>\n",
       "    <tr>\n",
       "      <th>580</th>\n",
       "      <td>Saýat</td>\n",
       "      <td>38.78</td>\n",
       "      <td>63.88</td>\n",
       "      <td>17.00</td>\n",
       "      <td>72</td>\n",
       "      <td>90</td>\n",
       "      <td>3.10</td>\n",
       "    </tr>\n",
       "    <tr>\n",
       "      <th>581</th>\n",
       "      <td>Broken Hill</td>\n",
       "      <td>-31.95</td>\n",
       "      <td>141.43</td>\n",
       "      <td>18.00</td>\n",
       "      <td>27</td>\n",
       "      <td>52</td>\n",
       "      <td>3.60</td>\n",
       "    </tr>\n",
       "    <tr>\n",
       "      <th>582</th>\n",
       "      <td>Abnūb</td>\n",
       "      <td>27.27</td>\n",
       "      <td>31.15</td>\n",
       "      <td>24.30</td>\n",
       "      <td>24</td>\n",
       "      <td>0</td>\n",
       "      <td>5.27</td>\n",
       "    </tr>\n",
       "    <tr>\n",
       "      <th>583</th>\n",
       "      <td>Cap Malheureux</td>\n",
       "      <td>-19.98</td>\n",
       "      <td>57.61</td>\n",
       "      <td>29.00</td>\n",
       "      <td>66</td>\n",
       "      <td>40</td>\n",
       "      <td>8.70</td>\n",
       "    </tr>\n",
       "  </tbody>\n",
       "</table>\n",
       "<p>584 rows × 7 columns</p>\n",
       "</div>"
      ],
      "text/plain": [
       "               city  latitude  longitude  max_temperature  humidity  \\\n",
       "0             Kapaa     22.08    -159.32            23.00        78   \n",
       "1          Osypenko     46.91      36.83             7.78       100   \n",
       "2          Imbituba    -28.24     -48.67            17.00        63   \n",
       "3         Busselton    -33.65     115.33            25.56        36   \n",
       "4          Bac Lieu      9.29     105.72            31.12        58   \n",
       "..              ...       ...        ...              ...       ...   \n",
       "579          Ofakim     31.31      34.62            19.44        68   \n",
       "580           Saýat     38.78      63.88            17.00        72   \n",
       "581     Broken Hill    -31.95     141.43            18.00        27   \n",
       "582           Abnūb     27.27      31.15            24.30        24   \n",
       "583  Cap Malheureux    -19.98      57.61            29.00        66   \n",
       "\n",
       "     cloudiness  wind_speed  \n",
       "0            75        2.60  \n",
       "1             0        3.13  \n",
       "2             1        1.00  \n",
       "3            39        5.58  \n",
       "4            37        5.48  \n",
       "..          ...         ...  \n",
       "579           0        0.45  \n",
       "580          90        3.10  \n",
       "581          52        3.60  \n",
       "582           0        5.27  \n",
       "583          40        8.70  \n",
       "\n",
       "[584 rows x 7 columns]"
      ]
     },
     "execution_count": 28,
     "metadata": {},
     "output_type": "execute_result"
    }
   ],
   "source": [
    "# Output File (CSV)\n",
    "output_data_file = \"output_data/cities.csv\"\n",
    "df = pd.read_csv(output_data_file)\n",
    "\n",
    "del df['Unnamed: 0']\n",
    "df"
   ]
  },
  {
   "cell_type": "markdown",
   "metadata": {},
   "source": [
    "### Humidity Heatmap\n",
    "* Configure gmaps.\n",
    "* Use the Lat and Lng as locations and Humidity as the weight.\n",
    "* Add Heatmap layer to map."
   ]
  },
  {
   "cell_type": "code",
   "execution_count": 29,
   "metadata": {},
   "outputs": [],
   "source": [
    "#Store latitude and longitude in locations\n",
    "locations = df[[\"latitude\", \"longitude\"]]\n",
    "\n",
    "# fill Nan values and convert to float\n",
    "humidities = df[\"humidity\"].astype(float)"
   ]
  },
  {
   "cell_type": "code",
   "execution_count": 33,
   "metadata": {},
   "outputs": [
    {
     "data": {
      "application/vnd.jupyter.widget-view+json": {
       "model_id": "80de8ce1648d4810878a590d6ded275e",
       "version_major": 2,
       "version_minor": 0
      },
      "text/plain": [
       "Figure(layout=FigureLayout(height='420px'))"
      ]
     },
     "metadata": {},
     "output_type": "display_data"
    }
   ],
   "source": [
    "\n",
    "# Plot Heatmap\n",
    "fig = gmaps.figure(center=(46.0, -5.0), zoom_level=2)\n",
    "\n",
    "# Create heat layer\n",
    "heat_layer = gmaps.heatmap_layer(locations, weights=humidities, \n",
    "                                 dissipating=False, max_intensity=10,\n",
    "                                 point_radius=1)\n",
    "\n",
    "\n",
    "# Add layer\n",
    "fig.add_layer(heat_layer)\n",
    "\n",
    "# Display figure\n",
    "fig\n"
   ]
  },
  {
   "cell_type": "markdown",
   "metadata": {},
   "source": [
    "### Create new DataFrame fitting weather criteria\n",
    "* Narrow down the cities to fit weather conditions.\n",
    "* Drop any rows will null values."
   ]
  },
  {
   "cell_type": "code",
   "execution_count": 74,
   "metadata": {},
   "outputs": [
    {
     "data": {
      "text/html": [
       "<div>\n",
       "<style scoped>\n",
       "    .dataframe tbody tr th:only-of-type {\n",
       "        vertical-align: middle;\n",
       "    }\n",
       "\n",
       "    .dataframe tbody tr th {\n",
       "        vertical-align: top;\n",
       "    }\n",
       "\n",
       "    .dataframe thead th {\n",
       "        text-align: right;\n",
       "    }\n",
       "</style>\n",
       "<table border=\"1\" class=\"dataframe\">\n",
       "  <thead>\n",
       "    <tr style=\"text-align: right;\">\n",
       "      <th></th>\n",
       "      <th>city</th>\n",
       "      <th>latitude</th>\n",
       "      <th>longitude</th>\n",
       "      <th>max_temperature</th>\n",
       "      <th>humidity</th>\n",
       "      <th>cloudiness</th>\n",
       "      <th>wind_speed</th>\n",
       "    </tr>\n",
       "  </thead>\n",
       "  <tbody>\n",
       "    <tr>\n",
       "      <th>0</th>\n",
       "      <td>Yumen</td>\n",
       "      <td>40.28</td>\n",
       "      <td>97.20</td>\n",
       "      <td>18.38</td>\n",
       "      <td>10</td>\n",
       "      <td>17</td>\n",
       "      <td>2.54</td>\n",
       "    </tr>\n",
       "    <tr>\n",
       "      <th>1</th>\n",
       "      <td>Gariāband</td>\n",
       "      <td>20.64</td>\n",
       "      <td>82.06</td>\n",
       "      <td>40.83</td>\n",
       "      <td>7</td>\n",
       "      <td>0</td>\n",
       "      <td>4.00</td>\n",
       "    </tr>\n",
       "  </tbody>\n",
       "</table>\n",
       "</div>"
      ],
      "text/plain": [
       "        city  latitude  longitude  max_temperature  humidity  cloudiness  \\\n",
       "0      Yumen     40.28      97.20            18.38        10          17   \n",
       "1  Gariāband     20.64      82.06            40.83         7           0   \n",
       "\n",
       "   wind_speed  \n",
       "0        2.54  \n",
       "1        4.00  "
      ]
     },
     "execution_count": 74,
     "metadata": {},
     "output_type": "execute_result"
    }
   ],
   "source": [
    "# Narrow down the DataFrame to find your ideal weather condition. \n",
    "# Drop any rows that don't contain all three conditions. You want to be sure the weather is ideal.\n",
    "\n",
    "df_new = df.loc[(df['humidity'] <= 10) & (df['wind_speed'] <= 4) & (df['cloudiness'] <= 20)]\n",
    "\n",
    "df_new = df_new.reset_index(drop=True)\n",
    "df_new"
   ]
  },
  {
   "cell_type": "markdown",
   "metadata": {},
   "source": [
    "### Hotel Map\n",
    "* Store into variable named `hotel_df`.\n",
    "* Add a \"Hotel Name\" column to the DataFrame.\n",
    "* Set parameters to search for hotels with 5000 meters.\n",
    "* Hit the Google Places API for each city's coordinates.\n",
    "* Store the first Hotel result into the DataFrame.\n",
    "* Plot markers on top of the heatmap."
   ]
  },
  {
   "cell_type": "code",
   "execution_count": 82,
   "metadata": {},
   "outputs": [
    {
     "data": {
      "text/html": [
       "<div>\n",
       "<style scoped>\n",
       "    .dataframe tbody tr th:only-of-type {\n",
       "        vertical-align: middle;\n",
       "    }\n",
       "\n",
       "    .dataframe tbody tr th {\n",
       "        vertical-align: top;\n",
       "    }\n",
       "\n",
       "    .dataframe thead th {\n",
       "        text-align: right;\n",
       "    }\n",
       "</style>\n",
       "<table border=\"1\" class=\"dataframe\">\n",
       "  <thead>\n",
       "    <tr style=\"text-align: right;\">\n",
       "      <th></th>\n",
       "      <th>city</th>\n",
       "      <th>latitude</th>\n",
       "      <th>longitude</th>\n",
       "      <th>max_temperature</th>\n",
       "      <th>humidity</th>\n",
       "      <th>cloudiness</th>\n",
       "      <th>wind_speed</th>\n",
       "      <th>hotel name</th>\n",
       "      <th>hotel address</th>\n",
       "    </tr>\n",
       "  </thead>\n",
       "  <tbody>\n",
       "    <tr>\n",
       "      <th>0</th>\n",
       "      <td>Yumen</td>\n",
       "      <td>40.28</td>\n",
       "      <td>97.20</td>\n",
       "      <td>18.38</td>\n",
       "      <td>10</td>\n",
       "      <td>17</td>\n",
       "      <td>2.54</td>\n",
       "      <td></td>\n",
       "      <td></td>\n",
       "    </tr>\n",
       "    <tr>\n",
       "      <th>1</th>\n",
       "      <td>Gariāband</td>\n",
       "      <td>20.64</td>\n",
       "      <td>82.06</td>\n",
       "      <td>40.83</td>\n",
       "      <td>7</td>\n",
       "      <td>0</td>\n",
       "      <td>4.00</td>\n",
       "      <td></td>\n",
       "      <td></td>\n",
       "    </tr>\n",
       "  </tbody>\n",
       "</table>\n",
       "</div>"
      ],
      "text/plain": [
       "        city  latitude  longitude  max_temperature  humidity  cloudiness  \\\n",
       "0      Yumen     40.28      97.20            18.38        10          17   \n",
       "1  Gariāband     20.64      82.06            40.83         7           0   \n",
       "\n",
       "   wind_speed hotel name hotel address  \n",
       "0        2.54                           \n",
       "1        4.00                           "
      ]
     },
     "execution_count": 82,
     "metadata": {},
     "output_type": "execute_result"
    }
   ],
   "source": [
    "#Store into variable named hotel_df. Add a \"Hotel Name\" column to the DataFrame.\n",
    "df_new [\"hotel name\"] = \"\"\n",
    "df_new [\"hotel address\"] = \"\"\n",
    "df_new.head()"
   ]
  },
  {
   "cell_type": "code",
   "execution_count": 83,
   "metadata": {},
   "outputs": [],
   "source": [
    "import json\n",
    "# params dictionary to update each iteration\n",
    "params = {\n",
    "    \"radius\": 5000,\n",
    "    \"types\": \"hotel\",\n",
    "    \"key\": g_key\n",
    "}"
   ]
  },
  {
   "cell_type": "code",
   "execution_count": 93,
   "metadata": {},
   "outputs": [
    {
     "name": "stdout",
     "output_type": "stream",
     "text": [
      "Processing Record 0 | Yumen\n",
      "Missing field/result... skipping.\n",
      "Processing Record 1 | Gariāband\n",
      "Missing field/result... skipping.\n"
     ]
    }
   ],
   "source": [
    "# Use the lat/lng we recovered to identify hotels\n",
    "for index, row in df_new.iterrows():\n",
    "    base_url = \"https://maps.googleapis.com/maps/api/place/nearbysearch/json\"\n",
    "    \n",
    "    # get lat, lng from df_new\n",
    "    city = row[\"city\"]\n",
    "    lat = row[\"latitude\"]\n",
    "    lng = row[\"longitude\"]\n",
    "      \n",
    "    # update address key value \n",
    "    params[\"location\"] = f\"{lat},{lng}\"\n",
    "\n",
    "    # make request \n",
    "    name_address = requests.get(base_url, params=params)\n",
    "    #     print the name_address url, avoid doing for public github repos in order to avoid exposing key\n",
    "    #     print(name_address.url)\n",
    "\n",
    "    # convert to json\n",
    "    name_address = name_address.json()\n",
    "    # print(json.dumps(name_address, indent=4, sort_keys=True))\n",
    "\n",
    "    # Since some data may be missing we incorporate a try-except to skip any that are missing a data point.\n",
    "    try:\n",
    "        print(f\"Processing Record {index} | {city}\")\n",
    "        df_new.loc[index, \"city\"] = city\n",
    "        df_new.loc[index, \"hotel name\"] = name_address[\"results\"][0][\"hotel\"]\n",
    "        df_new.loc[index, \"hotel address\"] = name_address[\"results\"][0][\"place\"]      \n",
    "      \n",
    "    except (KeyError, IndexError):\n",
    "        print(\"Missing field/result... skipping.\")"
   ]
  },
  {
   "cell_type": "code",
   "execution_count": 96,
   "metadata": {},
   "outputs": [
    {
     "data": {
      "text/html": [
       "<div>\n",
       "<style scoped>\n",
       "    .dataframe tbody tr th:only-of-type {\n",
       "        vertical-align: middle;\n",
       "    }\n",
       "\n",
       "    .dataframe tbody tr th {\n",
       "        vertical-align: top;\n",
       "    }\n",
       "\n",
       "    .dataframe thead th {\n",
       "        text-align: right;\n",
       "    }\n",
       "</style>\n",
       "<table border=\"1\" class=\"dataframe\">\n",
       "  <thead>\n",
       "    <tr style=\"text-align: right;\">\n",
       "      <th></th>\n",
       "      <th>city</th>\n",
       "      <th>latitude</th>\n",
       "      <th>longitude</th>\n",
       "      <th>max_temperature</th>\n",
       "      <th>humidity</th>\n",
       "      <th>cloudiness</th>\n",
       "      <th>wind_speed</th>\n",
       "      <th>hotel name</th>\n",
       "      <th>hotel address</th>\n",
       "    </tr>\n",
       "  </thead>\n",
       "  <tbody>\n",
       "    <tr>\n",
       "      <th>0</th>\n",
       "      <td>Yumen</td>\n",
       "      <td>39.73287</td>\n",
       "      <td>98.494548</td>\n",
       "      <td>18.38</td>\n",
       "      <td>10</td>\n",
       "      <td>17</td>\n",
       "      <td>2.54</td>\n",
       "      <td>Jiuquan</td>\n",
       "      <td>Jiuquan</td>\n",
       "    </tr>\n",
       "    <tr>\n",
       "      <th>1</th>\n",
       "      <td>Gariāband</td>\n",
       "      <td>20.63479</td>\n",
       "      <td>82.061497</td>\n",
       "      <td>40.83</td>\n",
       "      <td>7</td>\n",
       "      <td>0</td>\n",
       "      <td>4.00</td>\n",
       "      <td>Gariyaband</td>\n",
       "      <td>Gariyaband</td>\n",
       "    </tr>\n",
       "  </tbody>\n",
       "</table>\n",
       "</div>"
      ],
      "text/plain": [
       "        city  latitude  longitude  max_temperature  humidity  cloudiness  \\\n",
       "0      Yumen  39.73287  98.494548            18.38        10          17   \n",
       "1  Gariāband  20.63479  82.061497            40.83         7           0   \n",
       "\n",
       "   wind_speed  hotel name hotel address  \n",
       "0        2.54     Jiuquan       Jiuquan  \n",
       "1        4.00  Gariyaband    Gariyaband  "
      ]
     },
     "execution_count": 96,
     "metadata": {},
     "output_type": "execute_result"
    }
   ],
   "source": [
    "# Save Data to csv\n",
    "df_new.to_csv(\"Hotel_Output.csv\")\n",
    "\n",
    "# Visualize to confirm airport data appears\n",
    "df_new.head()"
   ]
  },
  {
   "cell_type": "code",
   "execution_count": 99,
   "metadata": {},
   "outputs": [],
   "source": [
    "# NOTE: Do not change any of the code in this cell\n",
    "\n",
    "# Using the template add the hotel marks to the heatmap\n",
    "info_box_template = \"\"\"\n",
    "<dl>\n",
    "<dt>Name</dt><dd>{hotel name}</dd>\n",
    "<dt>City</dt><dd>{city}</dd>\n",
    "</dl>\n",
    "\"\"\"\n",
    "# Store the DataFrame Row\n",
    "# NOTE: be sure to update with your DataFrame name\n",
    "hotel_info = [info_box_template.format(**row) for index, row in df_new.iterrows()]"
   ]
  },
  {
   "cell_type": "code",
   "execution_count": 101,
   "metadata": {},
   "outputs": [
    {
     "data": {
      "application/vnd.jupyter.widget-view+json": {
       "model_id": "80de8ce1648d4810878a590d6ded275e",
       "version_major": 2,
       "version_minor": 0
      },
      "text/plain": [
       "Figure(layout=FigureLayout(height='420px'))"
      ]
     },
     "metadata": {},
     "output_type": "display_data"
    }
   ],
   "source": [
    "# Add marker layer ontop of heat map\n",
    "marker_locations = df_new[[\"latitude\", \"longitude\"]]\n",
    "markers = gmaps.marker_layer(marker_locations,\n",
    "    info_box_content=hotel_info)\n",
    "\n",
    "\n",
    "fig.add_layer(markers)\n",
    "\n",
    "# Display Map\n",
    "fig"
   ]
  },
  {
   "cell_type": "code",
   "execution_count": null,
   "metadata": {},
   "outputs": [],
   "source": []
  }
 ],
 "metadata": {
  "kernelspec": {
   "display_name": "Python 3",
   "language": "python",
   "name": "python3"
  },
  "language_info": {
   "codemirror_mode": {
    "name": "ipython",
    "version": 3
   },
   "file_extension": ".py",
   "mimetype": "text/x-python",
   "name": "python",
   "nbconvert_exporter": "python",
   "pygments_lexer": "ipython3",
   "version": "3.8.2"
  },
  "latex_envs": {
   "LaTeX_envs_menu_present": true,
   "autoclose": false,
   "autocomplete": true,
   "bibliofile": "biblio.bib",
   "cite_by": "apalike",
   "current_citInitial": 1,
   "eqLabelWithNumbers": true,
   "eqNumInitial": 1,
   "hotkeys": {
    "equation": "Ctrl-E",
    "itemize": "Ctrl-I"
   },
   "labels_anchors": false,
   "latex_user_defs": false,
   "report_style_numbering": false,
   "user_envs_cfg": false
  }
 },
 "nbformat": 4,
 "nbformat_minor": 2
}
